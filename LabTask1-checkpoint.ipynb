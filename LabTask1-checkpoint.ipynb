{
 "cells": [
  {
   "cell_type": "code",
   "execution_count": null,
   "id": "moved-resource",
   "metadata": {},
   "outputs": [],
   "source": [
    "class Stack(object):\n",
    "\n",
    "    def __init__(self):\n",
    "        self.item = []\n",
    "\n",
    "    def push(self, item = ''):\n",
    "\n",
    "        self.item.append(item)\n",
    "\n",
    "    def pop(self):\n",
    "\n",
    "        self.item.pop()\n",
    "\n",
    "stack = Stack()\n",
    "\n",
    "stack.push(\"1\")\n",
    "stack.push('2')\n",
    "\n",
    "stack.pop()\n",
    "\n",
    "\n",
    "class Queue(object):\n",
    "    def __init__(self):\n",
    "        self.item = []\n",
    "\n",
    "    def enqueue(self, item):\n",
    "        self.item.insert(0, item)\n",
    "\n",
    "    def dequeue(self):\n",
    "        if self.item:\n",
    "            self.item.pop()\n",
    "        else:\n",
    "            return None\n",
    "\n",
    "\n",
    "queue = Queue()\n",
    "queue.enqueue(item=1)\n",
    "queue.enqueue(item=2)\n",
    "\n",
    "queue.dequeue()\n"
   ]
  }
 ],
 "metadata": {
  "kernelspec": {
   "display_name": "Python 3",
   "language": "python",
   "name": "python3"
  },
  "language_info": {
   "codemirror_mode": {
    "name": "ipython",
    "version": 3
   },
   "file_extension": ".py",
   "mimetype": "text/x-python",
   "name": "python",
   "nbconvert_exporter": "python",
   "pygments_lexer": "ipython3",
   "version": "3.9.1"
  }
 },
 "nbformat": 4,
 "nbformat_minor": 5
}
