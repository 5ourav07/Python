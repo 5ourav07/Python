{
  "nbformat": 4,
  "nbformat_minor": 0,
  "metadata": {
    "colab": {
      "name": "LabTask_Vacuum.ipynb",
      "provenance": [],
      "collapsed_sections": []
    },
    "kernelspec": {
      "name": "python3",
      "display_name": "Python 3"
    }
  },
  "cells": [
    {
      "cell_type": "code",
      "metadata": {
        "colab": {
          "base_uri": "https://localhost:8080/"
        },
        "id": "6q4RlaMbK3Us",
        "outputId": "0094a16d-9d74-4697-a3e7-ff0971083718"
      },
      "source": [
        "table = {'clean': 'move', 'dirty': 'suck'}\r\n",
        "def lookup(percept):\r\n",
        "  for i in table:\r\n",
        "    if i == percept[1]:\r\n",
        "      return table[i]\r\n",
        "\r\n",
        "def move(location):\r\n",
        "  if location == 'A':\r\n",
        "    return 'Right'\r\n",
        "  elif location == 'B':\r\n",
        "    return 'Left'  \r\n",
        "\r\n",
        "def table_agent(percept):\r\n",
        "  action = lookup(percept)\r\n",
        "  if action == 'move':\r\n",
        "    action = move(percept[0])\r\n",
        "  print(action)\r\n",
        "\r\n",
        "c = 'y'\r\n",
        "while c!= 'n':\r\n",
        "  room_status = input(\"Enter Status (clean / dirty)\")\r\n",
        "  room_name = input(\"Enter room name (A/B\")\r\n",
        "  percept = [room_name, room_status]\r\n",
        "  table_agent(percept)\r\n",
        "  c = input(\"Continue? (y/n):\")"
      ],
      "execution_count": null,
      "outputs": [
        {
          "output_type": "stream",
          "text": [
            "Enter Status (clean / dirty)clean\n",
            "Enter room name (A/BA\n",
            "Right\n",
            "Continue? (y/n):y\n",
            "Enter Status (clean / dirty)dirty\n",
            "Enter room name (A/BA\n",
            "suck\n"
          ],
          "name": "stdout"
        }
      ]
    }
  ]
}