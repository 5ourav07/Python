{
  "nbformat": 4,
  "nbformat_minor": 0,
  "metadata": {
    "colab": {
      "name": "vacuum cleaning agent.ipynb",
      "provenance": [],
      "collapsed_sections": []
    },
    "kernelspec": {
      "name": "python3",
      "display_name": "Python 3"
    }
  },
  "cells": [
    {
      "cell_type": "code",
      "metadata": {
        "id": "qZA6DMQ4T4XW"
      },
      "source": [
        "class Environment(object):\r\n",
        "    def __init__(self):\r\n",
        "        self.locationc={'A' : '1' , 'B' : '1'}\r\n",
        "\r\n",
        "class agent(Environment):\r\n",
        "    def __init__(self,Environment):\r\n",
        "        print(Environment.location)\r\n",
        "          if vacuumlocation==0:\r\n",
        "            print(\"vacuum is placed at locationn A\")\r\n",
        "            if Environment.location['A']==1:\r\n",
        "              print(\"Location A is dirt\")\r\n",
        "            elif\r\n",
        "              print(\"moving to location B\")\r\n",
        "              Environment.location['A']==1:\r\n",
        "              print(\"Location B is dirt\")  \r\n",
        "\r\n",
        "          elif vacuumlocation==1:\r\n",
        "            print(\"vacuum is placed at locationn B\")\r\n",
        "            if Environment.location['B']==1:\r\n",
        "              print(\"Location B is dirt\")\r\n",
        "              if Environment.location['B']==1:\r\n",
        "                print(\"Location A is dirt\")\r\n",
        "              elif\r\n",
        "                print(\"moving to location A\")\r\n",
        "                Environment.location['A']==1:\r\n",
        "                print(\"Location B is dirt\")\r\n",
        "\r\n",
        "theEnvironment=Environment()\r\n",
        "thevacuum=agent(theEnvironment)                    "
      ],
      "execution_count": null,
      "outputs": []
    }
  ]
}